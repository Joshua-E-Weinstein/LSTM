{
  "nbformat": 4,
  "nbformat_minor": 0,
  "metadata": {
    "colab": {
      "name": "AI S&P500",
      "provenance": []
    },
    "kernelspec": {
      "name": "python3",
      "display_name": "Python 3"
    },
    "language_info": {
      "name": "python"
    }
  },
  "cells": [
    {
      "cell_type": "code",
      "metadata": {
        "id": "rVoI8mLKgnBE",
        "colab": {
          "base_uri": "https://localhost:8080/"
        },
        "outputId": "7ada3c55-feb3-488c-bdb3-6ba6fb5724df"
      },
      "source": [
        "# Imports\n",
        "!pip install yfinance\n",
        "!pip install numba\n",
        "import yfinance as yf\n",
        "import numpy as np\n",
        "from collections import deque"
      ],
      "execution_count": null,
      "outputs": [
        {
          "output_type": "stream",
          "name": "stdout",
          "text": [
            "Collecting yfinance\n",
            "  Downloading yfinance-0.1.64.tar.gz (26 kB)\n",
            "Requirement already satisfied: pandas>=0.24 in /usr/local/lib/python3.7/dist-packages (from yfinance) (1.1.5)\n",
            "Requirement already satisfied: numpy>=1.15 in /usr/local/lib/python3.7/dist-packages (from yfinance) (1.19.5)\n",
            "Requirement already satisfied: requests>=2.20 in /usr/local/lib/python3.7/dist-packages (from yfinance) (2.23.0)\n",
            "Requirement already satisfied: multitasking>=0.0.7 in /usr/local/lib/python3.7/dist-packages (from yfinance) (0.0.9)\n",
            "Collecting lxml>=4.5.1\n",
            "  Downloading lxml-4.6.4-cp37-cp37m-manylinux_2_17_x86_64.manylinux2014_x86_64.manylinux_2_24_x86_64.whl (6.3 MB)\n",
            "\u001b[K     |████████████████████████████████| 6.3 MB 49.7 MB/s \n",
            "\u001b[?25hRequirement already satisfied: python-dateutil>=2.7.3 in /usr/local/lib/python3.7/dist-packages (from pandas>=0.24->yfinance) (2.8.2)\n",
            "Requirement already satisfied: pytz>=2017.2 in /usr/local/lib/python3.7/dist-packages (from pandas>=0.24->yfinance) (2018.9)\n",
            "Requirement already satisfied: six>=1.5 in /usr/local/lib/python3.7/dist-packages (from python-dateutil>=2.7.3->pandas>=0.24->yfinance) (1.15.0)\n",
            "Requirement already satisfied: urllib3!=1.25.0,!=1.25.1,<1.26,>=1.21.1 in /usr/local/lib/python3.7/dist-packages (from requests>=2.20->yfinance) (1.24.3)\n",
            "Requirement already satisfied: idna<3,>=2.5 in /usr/local/lib/python3.7/dist-packages (from requests>=2.20->yfinance) (2.10)\n",
            "Requirement already satisfied: chardet<4,>=3.0.2 in /usr/local/lib/python3.7/dist-packages (from requests>=2.20->yfinance) (3.0.4)\n",
            "Requirement already satisfied: certifi>=2017.4.17 in /usr/local/lib/python3.7/dist-packages (from requests>=2.20->yfinance) (2021.5.30)\n",
            "Building wheels for collected packages: yfinance\n",
            "  Building wheel for yfinance (setup.py) ... \u001b[?25l\u001b[?25hdone\n",
            "  Created wheel for yfinance: filename=yfinance-0.1.64-py2.py3-none-any.whl size=24109 sha256=a3bb7f705e003b1aa622dff5e410cc7147e5e58040a4af3be07736ce88af1e8c\n",
            "  Stored in directory: /root/.cache/pip/wheels/86/fe/9b/a4d3d78796b699e37065e5b6c27b75cff448ddb8b24943c288\n",
            "Successfully built yfinance\n",
            "Installing collected packages: lxml, yfinance\n",
            "  Attempting uninstall: lxml\n",
            "    Found existing installation: lxml 4.2.6\n",
            "    Uninstalling lxml-4.2.6:\n",
            "      Successfully uninstalled lxml-4.2.6\n",
            "Successfully installed lxml-4.6.4 yfinance-0.1.64\n",
            "Requirement already satisfied: numba in /usr/local/lib/python3.7/dist-packages (0.51.2)\n",
            "Requirement already satisfied: setuptools in /usr/local/lib/python3.7/dist-packages (from numba) (57.4.0)\n",
            "Requirement already satisfied: numpy>=1.15 in /usr/local/lib/python3.7/dist-packages (from numba) (1.19.5)\n",
            "Requirement already satisfied: llvmlite<0.35,>=0.34.0.dev0 in /usr/local/lib/python3.7/dist-packages (from numba) (0.34.0)\n"
          ]
        }
      ]
    },
    {
      "cell_type": "code",
      "metadata": {
        "colab": {
          "base_uri": "https://localhost:8080/"
        },
        "id": "vnXmw29whvDv",
        "outputId": "cd101282-ad4e-4547-d98d-7f6b405395ea"
      },
      "source": [
        "snp = yf.Ticker(\"^GSPC\") # Initialize Ticker\n",
        "\n",
        "snp_history = snp.history(period=\"max\", interval=\"1wk\") # Download history of ticker"
      ],
      "execution_count": null,
      "outputs": [
        {
          "output_type": "stream",
          "name": "stdout",
          "text": [
            "                   Open         High  ...  Dividends  Stock Splits\n",
            "Date                                  ...                         \n",
            "1950-01-02    16.660000    17.090000  ...          0             0\n",
            "1950-01-09    17.080000    17.090000  ...          0             0\n",
            "1950-01-16    16.719999    16.940001  ...          0             0\n",
            "1950-01-23    16.920000    16.920000  ...          0             0\n",
            "1950-01-30    17.020000    17.350000  ...          0             0\n",
            "...                 ...          ...  ...        ...           ...\n",
            "2021-10-11  4385.439941  4475.819824  ...          0             0\n",
            "2021-10-18  4463.720215  4559.669922  ...          0             0\n",
            "2021-10-25  4553.689941  4608.080078  ...          0             0\n",
            "2021-11-01  4610.620117  4620.339844  ...          0             0\n",
            "2021-11-02  4613.339844  4633.060059  ...          0             0\n",
            "\n",
            "[3750 rows x 7 columns]\n"
          ]
        }
      ]
    },
    {
      "cell_type": "code",
      "metadata": {
        "id": "oZkK9PyilpOi"
      },
      "source": [
        "# Data narrowed into Index, Date, Close, Volume\n",
        "snp_data = snp_history[[\"Close\", \"Volume\"]]\n",
        "snp_data = snp_data.reset_index()"
      ],
      "execution_count": null,
      "outputs": []
    },
    {
      "cell_type": "code",
      "metadata": {
        "id": "GPc2t9WqmVxW"
      },
      "source": [
        "# Add new W_Average Column to the data (Weighted 30 week moving average)\n",
        "def calculate_waverage(close):\n",
        "  #Declaration of variables:\n",
        "  res = np.zeros(close.shape)\n",
        "  weights = range(1,31)\n",
        "  total_weight = sum(weights)\n",
        "\n",
        "  past30 = deque()  # Initialize queue in which to keep past 30 values\n",
        "  \n",
        "  # Add first 29 values\n",
        "  for i in range(0,29): \n",
        "    past30.append(close[i])\n",
        "\n",
        "  # Calculate weighted average. Updating and dequeing 1 value with every loop.\n",
        "  for i in range(29, close.shape[0]):  \n",
        "    past30.append(close[i])\n",
        "    \n",
        "    res[i] = sum([value * weight for value, weight in zip(past30,weights)]) / total_weight\n",
        "\n",
        "\n",
        "    past30.popleft()\n",
        "  \n",
        "  return res\n",
        "\n",
        "snp_data['W_Average'] = calculate_waverage(snp_data['Close'])\n",
        "snp_data.to_csv(path_or_buf=\"snp_data_1wk_weighted30wk\")  # Export data to a csv which will then be used for rest of project."
      ],
      "execution_count": 7,
      "outputs": []
    }
  ]
}